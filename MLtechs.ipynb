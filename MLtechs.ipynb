{
  "nbformat": 4,
  "nbformat_minor": 0,
  "metadata": {
    "colab": {
      "provenance": []
    },
    "kernelspec": {
      "name": "python3",
      "display_name": "Python 3"
    },
    "language_info": {
      "name": "python"
    }
  },
  "cells": [
    {
      "cell_type": "code",
      "source": [
        "!pip install astral"
      ],
      "metadata": {
        "colab": {
          "base_uri": "https://localhost:8080/"
        },
        "id": "tlEDxvdOnj4G",
        "outputId": "1a8136ba-83c8-45ba-c14d-e49fe2e0c3ca"
      },
      "execution_count": 4,
      "outputs": [
        {
          "output_type": "stream",
          "name": "stdout",
          "text": [
            "Collecting astral\n",
            "  Downloading astral-3.2-py3-none-any.whl.metadata (1.7 kB)\n",
            "Downloading astral-3.2-py3-none-any.whl (38 kB)\n",
            "Installing collected packages: astral\n",
            "Successfully installed astral-3.2\n"
          ]
        }
      ]
    },
    {
      "cell_type": "code",
      "source": [
        "# 📦 Required libraries\n",
        "import pandas as pd\n",
        "import numpy as np\n",
        "import datetime as dt\n",
        "from astral import LocationInfo\n",
        "from astral.sun import daylight\n",
        "from pandas.tseries.holiday import USFederalHolidayCalendar\n",
        "from sklearn.preprocessing import LabelEncoder, StandardScaler\n",
        "from sklearn.model_selection import train_test_split\n",
        "from sklearn.linear_model import LinearRegression, LogisticRegression\n",
        "from sklearn.neighbors import KNeighborsRegressor\n",
        "from sklearn.cluster import KMeans\n",
        "from sklearn.ensemble import GradientBoostingRegressor, RandomForestRegressor\n",
        "from sklearn.tree import DecisionTreeRegressor\n",
        "from sklearn.metrics import r2_score, mean_absolute_error, accuracy_score\n",
        "\n",
        "# 📁 Unzip data\n",
        "!unzip -q \"MelihDurhasanDSA210SprintermProject-main (1).zip\"\n",
        "!unzip -q \"/content/project/MelihDurhasanDSA210SprintermProject-main/DSA210_datas.zip\"\n",
        "\n",
        "# 🔹 Crime data\n",
        "crime = pd.read_csv(\"crime-data.csv\", parse_dates=[\"Date\"], low_memory=False)\n",
        "crime = crime[(crime[\"Date\"].dt.year >= 2020) & (crime[\"Date\"].dt.year <= 2024)]\n",
        "crime = crime.dropna(subset=[\"Community Area\"])\n",
        "crime[\"date_only\"] = crime[\"Date\"].dt.date\n",
        "\n",
        "# 🔹 Daily crime counts per area\n",
        "daily = crime.groupby([\"date_only\", \"Community Area\"]).size().reset_index(name=\"crime_cnt\")\n",
        "\n",
        "# 🔹 Weather data\n",
        "weather = pd.read_csv(\"weather-data.csv\", parse_dates=[\"datetime\"])\n",
        "weather[\"date_only\"] = weather[\"datetime\"].dt.date\n",
        "wx = (weather.groupby(\"date_only\")\n",
        "      .agg(temp=(\"temp\", \"mean\"),\n",
        "           humidity=(\"humidity\", \"mean\"),\n",
        "           precip=(\"precip\", \"sum\"),\n",
        "           windspeed=(\"windspeed\", \"mean\"),\n",
        "           visibility=(\"visibility\", \"mean\"),\n",
        "           uvindex=(\"uvindex\", \"mean\"))\n",
        "      .reset_index())\n",
        "\n",
        "# 🔹 Population data\n",
        "pop = pd.read_csv(\"chicago_population_named.csv\")\n",
        "\n",
        "# 🔹 Merge datasets\n",
        "df = (daily.merge(wx, on=\"date_only\", how=\"left\")\n",
        "          .merge(pop[[\"Community Area\", \"population\"]], on=\"Community Area\", how=\"left\"))\n",
        "\n",
        "# 🔹 Feature engineering\n",
        "chi = LocationInfo(41.88, -87.63)\n",
        "df[\"crime_rate\"] = df[\"crime_cnt\"] / (df[\"population\"] / 100_000)\n",
        "df[\"day_name\"] = pd.to_datetime(df[\"date_only\"]).dt.day_name()\n",
        "df[\"month\"] = pd.to_datetime(df[\"date_only\"]).dt.month\n",
        "holidays = USFederalHolidayCalendar().holidays(start=df[\"date_only\"].min(), end=df[\"date_only\"].max())\n",
        "df[\"is_holiday\"] = df[\"date_only\"].isin(holidays)\n",
        "df[\"daylight_hrs\"] = df[\"date_only\"].apply(\n",
        "    lambda d: (daylight(chi.observer, date=d)[1] - daylight(chi.observer, date=d)[0]).seconds / 3600\n",
        ")\n",
        "\n",
        "# 🔹 Lag features\n",
        "df = df.sort_values([\"Community Area\", \"date_only\"])\n",
        "df[\"lag_1\"] = df.groupby(\"Community Area\")[\"crime_rate\"].shift(1).fillna(0)\n",
        "df[\"lag_7\"] = df.groupby(\"Community Area\")[\"crime_rate\"].shift(7).fillna(0)\n",
        "\n",
        "# 🔹 Encoding & model inputs\n",
        "le_day = LabelEncoder()\n",
        "df[\"day_enc\"] = le_day.fit_transform(df[\"day_name\"])\n",
        "feat_cols = [\n",
        "    \"temp\", \"humidity\", \"precip\", \"windspeed\", \"visibility\", \"uvindex\",\n",
        "    \"daylight_hrs\", \"is_holiday\", \"month\", \"day_enc\", \"lag_1\", \"lag_7\", \"Community Area\"\n",
        "]\n",
        "X = df[feat_cols]\n",
        "y = df[\"crime_rate\"]\n",
        "scaler = StandardScaler().fit(X)\n",
        "X_scaled = scaler.transform(X)\n",
        "\n",
        "# 🔹 Train-test split\n",
        "X_train, X_test, y_train, y_test = train_test_split(\n",
        "    X_scaled, y, test_size=0.2, random_state=42\n",
        ")\n",
        "\n",
        "# ▶️ Gradient Boosting (baseline)\n",
        "gb = GradientBoostingRegressor(n_estimators=300, learning_rate=0.05, max_depth=4, random_state=42)\n",
        "gb.fit(X_train, y_train)\n",
        "y_pred_gb = gb.predict(X_test)\n",
        "print(f\"GB R²: {r2_score(y_test, y_pred_gb):.3f}, MAE: {mean_absolute_error(y_test, y_pred_gb):.2f}\")\n",
        "\n",
        "# ▶️ Regression modelleri karşılaştırma\n",
        "reg_models = {\n",
        "    \"Linear Regression\": LinearRegression(),\n",
        "    \"KNN Regressor\": KNeighborsRegressor(n_neighbors=5),\n",
        "    \"Random Forest\": RandomForestRegressor(n_estimators=100, random_state=42),\n",
        "    \"Decision Tree\": DecisionTreeRegressor(random_state=42),\n",
        "}\n",
        "\n",
        "print(\"\\n=== Regression Model Performance ===\")\n",
        "for name, model in reg_models.items():\n",
        "    model.fit(X_train, y_train)\n",
        "    y_pred = model.predict(X_test)\n",
        "    print(f\"{name:16s} → R²: {r2_score(y_test, y_pred):.3f}, MAE: {mean_absolute_error(y_test, y_pred):.2f}\")\n",
        "\n",
        "# ▶️ Logistic Regression sınıflandırma (crime_rate medyan üstü/altı)\n",
        "y_binary = (y > y.median()).astype(int)\n",
        "X_train_cls, X_test_cls, y_train_cls, y_test_cls = train_test_split(\n",
        "    X_scaled, y_binary, test_size=0.2, random_state=42\n",
        ")\n",
        "log_model = LogisticRegression(max_iter=1000, random_state=42)\n",
        "log_model.fit(X_train_cls, y_train_cls)\n",
        "acc = accuracy_score(y_test_cls, log_model.predict(X_test_cls))\n",
        "print(f\"\\nLogistic Regression → Accuracy: {acc:.3f}\")\n",
        "\n",
        "# ▶️ KMeans kümeleme\n",
        "kmeans = KMeans(n_clusters=5, random_state=42, n_init=10)\n",
        "df[\"cluster\"] = kmeans.fit_predict(X_scaled)\n",
        "print(\"\\nKMeans → Cluster dağılımı:\")\n",
        "print(df[\"cluster\"].value_counts())\n"
      ],
      "metadata": {
        "colab": {
          "base_uri": "https://localhost:8080/"
        },
        "id": "NPunl2D9oL8x",
        "outputId": "31c4dedf-65d7-4afb-f56e-0ffdb2323c0f"
      },
      "execution_count": 7,
      "outputs": [
        {
          "output_type": "stream",
          "name": "stdout",
          "text": [
            "unzip:  cannot find or open MelihDurhasanDSA210SprintermProject-main (1).zip, MelihDurhasanDSA210SprintermProject-main (1).zip.zip or MelihDurhasanDSA210SprintermProject-main (1).zip.ZIP.\n",
            "unzip:  cannot find or open /content/project/MelihDurhasanDSA210SprintermProject-main/DSA210_datas.zip, /content/project/MelihDurhasanDSA210SprintermProject-main/DSA210_datas.zip.zip or /content/project/MelihDurhasanDSA210SprintermProject-main/DSA210_datas.zip.ZIP.\n",
            "GB R²: 0.574, MAE: 2.76\n",
            "\n",
            "=== Regression Model Performance ===\n",
            "Linear Regression → R²: 0.495, MAE: 3.01\n",
            "KNN Regressor    → R²: 0.416, MAE: 3.27\n",
            "Random Forest    → R²: 0.547, MAE: 2.88\n",
            "Decision Tree    → R²: 0.110, MAE: 3.59\n",
            "\n",
            "Logistic Regression → Accuracy: 0.723\n",
            "\n",
            "KMeans → Cluster dağılımı:\n",
            "cluster\n",
            "3    29220\n",
            "1    16146\n",
            "0    15852\n",
            "4     6635\n",
            "2     3246\n",
            "Name: count, dtype: int64\n"
          ]
        }
      ]
    }
  ]
}
